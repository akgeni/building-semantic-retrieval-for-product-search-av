{
 "cells": [
  {
   "cell_type": "code",
   "execution_count": 4,
   "id": "9c6243e6-adc7-4414-9488-94a4446e3c67",
   "metadata": {},
   "outputs": [],
   "source": [
    "from torch.utils.data import DataLoader\n",
    "import math\n",
    "from sentence_transformers import LoggingHandler, util\n",
    "from sentence_transformers.cross_encoder import CrossEncoder\n",
    "from sentence_transformers.cross_encoder.evaluation import CECorrelationEvaluator\n",
    "from sentence_transformers import InputExample\n",
    "import logging\n",
    "from datetime import datetime\n",
    "import os\n",
    "import gzip\n",
    "import csv\n",
    "from datetime import date\n",
    "import json\n",
    "from torch.utils.data import DataLoader\n",
    "from datasets import load_dataset\n",
    "import pandas as pd"
   ]
  },
  {
   "cell_type": "code",
   "execution_count": null,
   "id": "30c78f79-45d3-42cc-b906-da2091259fc7",
   "metadata": {},
   "outputs": [],
   "source": []
  },
  {
   "cell_type": "code",
   "execution_count": 5,
   "id": "732548c4-d1ba-4306-9cc5-c9740cd01778",
   "metadata": {},
   "outputs": [],
   "source": [
    "train_batch_size = 384\n",
    "num_epochs = 2\n",
    "model_save_path = \"output/training_esci-crossencoder-exact_vs_nonexact\" + str(datetime.today())\n"
   ]
  },
  {
   "cell_type": "code",
   "execution_count": 6,
   "id": "eaf21bcc-45a0-420a-b582-0326883d0fd3",
   "metadata": {},
   "outputs": [
    {
     "name": "stderr",
     "output_type": "stream",
     "text": [
      "/home/zeus/miniconda3/envs/cloudspace/lib/python3.10/site-packages/huggingface_hub/file_download.py:1132: FutureWarning: `resume_download` is deprecated and will be removed in version 1.0.0. Downloads always resume when possible. If you want to force a new download, use `force_download=True`.\n",
      "  warnings.warn(\n",
      "/home/zeus/miniconda3/envs/cloudspace/lib/python3.10/site-packages/torch/_utils.py:831: UserWarning: TypedStorage is deprecated. It will be removed in the future and UntypedStorage will be the only storage class. This should only matter to you if you are using storages directly.  To access UntypedStorage directly, use tensor.untyped_storage() instead of tensor.storage()\n",
      "  return self.fget.__get__(instance, owner)()\n"
     ]
    }
   ],
   "source": [
    "# We use cross-encoder/ms-marco-MiniLM-L-6-v2 as base model and set num_labels=1, \n",
    "# which predicts a continuous score between 0 and 1\n",
    "model = CrossEncoder(\"cross-encoder/ms-marco-MiniLM-L-6-v2\", num_labels=1)"
   ]
  },
  {
   "cell_type": "code",
   "execution_count": 7,
   "id": "4e6a78c9-241c-42ea-b801-249af378b898",
   "metadata": {},
   "outputs": [],
   "source": [
    "train_samples = []\n",
    "dev_samples = []\n",
    "test_samples = []"
   ]
  },
  {
   "cell_type": "code",
   "execution_count": 8,
   "id": "7750d7e7-bb5a-469d-8bae-854dac39dacd",
   "metadata": {},
   "outputs": [],
   "source": [
    "esci = load_dataset(\"tasksource/esci\")"
   ]
  },
  {
   "cell_type": "code",
   "execution_count": 9,
   "id": "0d2a3b58-465f-484c-af17-f64887670242",
   "metadata": {},
   "outputs": [
    {
     "data": {
      "text/html": [
       "<div>\n",
       "<style scoped>\n",
       "    .dataframe tbody tr th:only-of-type {\n",
       "        vertical-align: middle;\n",
       "    }\n",
       "\n",
       "    .dataframe tbody tr th {\n",
       "        vertical-align: top;\n",
       "    }\n",
       "\n",
       "    .dataframe thead th {\n",
       "        text-align: right;\n",
       "    }\n",
       "</style>\n",
       "<table border=\"1\" class=\"dataframe\">\n",
       "  <thead>\n",
       "    <tr style=\"text-align: right;\">\n",
       "      <th></th>\n",
       "      <th>example_id</th>\n",
       "      <th>query</th>\n",
       "      <th>query_id</th>\n",
       "      <th>product_id</th>\n",
       "      <th>product_locale</th>\n",
       "      <th>esci_label</th>\n",
       "      <th>small_version</th>\n",
       "      <th>large_version</th>\n",
       "      <th>product_title</th>\n",
       "      <th>product_description</th>\n",
       "      <th>product_bullet_point</th>\n",
       "      <th>product_brand</th>\n",
       "      <th>product_color</th>\n",
       "      <th>product_text</th>\n",
       "    </tr>\n",
       "  </thead>\n",
       "  <tbody>\n",
       "    <tr>\n",
       "      <th>1651080</th>\n",
       "      <td>1970610</td>\n",
       "      <td>tattoo aftercare</td>\n",
       "      <td>100839</td>\n",
       "      <td>B000HP1IDG</td>\n",
       "      <td>us</td>\n",
       "      <td>Exact</td>\n",
       "      <td>0</td>\n",
       "      <td>1</td>\n",
       "      <td>Tattoo Goo The Original After Care Salve, 0.75...</td>\n",
       "      <td>None</td>\n",
       "      <td>Natural Choice for healing your tattoo fast\\nF...</td>\n",
       "      <td>Tattoo Goo</td>\n",
       "      <td>As Picture</td>\n",
       "      <td>Tattoo Goo The Original After Care Salve, 0.75...</td>\n",
       "    </tr>\n",
       "    <tr>\n",
       "      <th>150666</th>\n",
       "      <td>83849</td>\n",
       "      <td>2年保証付き 工事なしled蛍光灯 グロー式工事不要・ラビット式工事不要・インバーター式工事不要</td>\n",
       "      <td>3290</td>\n",
       "      <td>B07X9LM6HV</td>\n",
       "      <td>jp</td>\n",
       "      <td>Exact</td>\n",
       "      <td>1</td>\n",
       "      <td>1</td>\n",
       "      <td>LED蛍光灯 40W形 T8直管 18W消費電力 120cm G13口金 昼光色（6500K...</td>\n",
       "      <td>◆商品名：T8直管蛍光灯型LEDランプ◆口金：G13 ◆電圧：AC85V〜265V ◆消費電...</td>\n",
       "      <td>商品名：T8直管蛍光灯型LEDランプ(※T5非対応) 　ルーメン度：2600LM　口金：G1...</td>\n",
       "      <td>TARUNA</td>\n",
       "      <td>40W</td>\n",
       "      <td>LED蛍光灯 40W形 T8直管 18W消費電力 120cm G13口金 昼光色（6500K...</td>\n",
       "    </tr>\n",
       "    <tr>\n",
       "      <th>1403170</th>\n",
       "      <td>2138386</td>\n",
       "      <td>wall mounted bathroom towel storage rack</td>\n",
       "      <td>109536</td>\n",
       "      <td>B07QXT7WDL</td>\n",
       "      <td>us</td>\n",
       "      <td>Exact</td>\n",
       "      <td>0</td>\n",
       "      <td>1</td>\n",
       "      <td>2-Tier Metal Industrial 23.6\" Bathroom Shelves...</td>\n",
       "      <td>2-Tier Industrial 23.6\" Bathroom Shelves Wall ...</td>\n",
       "      <td>The bathroom shelves are versatile, such as ba...</td>\n",
       "      <td>MBQQ</td>\n",
       "      <td>C</td>\n",
       "      <td>2-Tier Metal Industrial 23.6\" Bathroom Shelves...</td>\n",
       "    </tr>\n",
       "    <tr>\n",
       "      <th>853546</th>\n",
       "      <td>714798</td>\n",
       "      <td>drive belt troybuilt riding mower 46 inch lawn...</td>\n",
       "      <td>35572</td>\n",
       "      <td>B07SM5Z8FJ</td>\n",
       "      <td>us</td>\n",
       "      <td>Substitute</td>\n",
       "      <td>1</td>\n",
       "      <td>1</td>\n",
       "      <td>QIJIA Lawn Mower Tranmission Belt 5/8\" x 70.9\"...</td>\n",
       "      <td>&lt;p&gt;Replaces OEM:754-04249, 754-04249A, 954-042...</td>\n",
       "      <td>Belt For Drive,Belt measures(inch):5/8\" x 70.9...</td>\n",
       "      <td>QIJIA</td>\n",
       "      <td>None</td>\n",
       "      <td>QIJIA Lawn Mower Tranmission Belt 5/8\" x 70.9\"...</td>\n",
       "    </tr>\n",
       "  </tbody>\n",
       "</table>\n",
       "</div>"
      ],
      "text/plain": [
       "         example_id                                              query  \\\n",
       "1651080     1970610                                   tattoo aftercare   \n",
       "150666        83849   2年保証付き 工事なしled蛍光灯 グロー式工事不要・ラビット式工事不要・インバーター式工事不要   \n",
       "1403170     2138386           wall mounted bathroom towel storage rack   \n",
       "853546       714798  drive belt troybuilt riding mower 46 inch lawn...   \n",
       "\n",
       "         query_id  product_id product_locale  esci_label  small_version  \\\n",
       "1651080    100839  B000HP1IDG             us       Exact              0   \n",
       "150666       3290  B07X9LM6HV             jp       Exact              1   \n",
       "1403170    109536  B07QXT7WDL             us       Exact              0   \n",
       "853546      35572  B07SM5Z8FJ             us  Substitute              1   \n",
       "\n",
       "         large_version                                      product_title  \\\n",
       "1651080              1  Tattoo Goo The Original After Care Salve, 0.75...   \n",
       "150666               1  LED蛍光灯 40W形 T8直管 18W消費電力 120cm G13口金 昼光色（6500K...   \n",
       "1403170              1  2-Tier Metal Industrial 23.6\" Bathroom Shelves...   \n",
       "853546               1  QIJIA Lawn Mower Tranmission Belt 5/8\" x 70.9\"...   \n",
       "\n",
       "                                       product_description  \\\n",
       "1651080                                               None   \n",
       "150666   ◆商品名：T8直管蛍光灯型LEDランプ◆口金：G13 ◆電圧：AC85V〜265V ◆消費電...   \n",
       "1403170  2-Tier Industrial 23.6\" Bathroom Shelves Wall ...   \n",
       "853546   <p>Replaces OEM:754-04249, 754-04249A, 954-042...   \n",
       "\n",
       "                                      product_bullet_point product_brand  \\\n",
       "1651080  Natural Choice for healing your tattoo fast\\nF...    Tattoo Goo   \n",
       "150666   商品名：T8直管蛍光灯型LEDランプ(※T5非対応) 　ルーメン度：2600LM　口金：G1...        TARUNA   \n",
       "1403170  The bathroom shelves are versatile, such as ba...          MBQQ   \n",
       "853546   Belt For Drive,Belt measures(inch):5/8\" x 70.9...         QIJIA   \n",
       "\n",
       "        product_color                                       product_text  \n",
       "1651080    As Picture  Tattoo Goo The Original After Care Salve, 0.75...  \n",
       "150666            40W  LED蛍光灯 40W形 T8直管 18W消費電力 120cm G13口金 昼光色（6500K...  \n",
       "1403170             C  2-Tier Metal Industrial 23.6\" Bathroom Shelves...  \n",
       "853546           None  QIJIA Lawn Mower Tranmission Belt 5/8\" x 70.9\"...  "
      ]
     },
     "execution_count": 9,
     "metadata": {},
     "output_type": "execute_result"
    }
   ],
   "source": [
    "esci_train_df = esci[\"train\"].to_pandas()\n",
    "esci_train_df.sample(4)"
   ]
  },
  {
   "cell_type": "code",
   "execution_count": 10,
   "id": "bc3e87a9-05fc-4eb5-9f80-291542b03288",
   "metadata": {},
   "outputs": [],
   "source": [
    "esci_train_df = esci_train_df[esci_train_df.product_locale == 'us']"
   ]
  },
  {
   "cell_type": "code",
   "execution_count": 11,
   "id": "701965bc-a1da-41e3-b00f-958042b42c66",
   "metadata": {},
   "outputs": [],
   "source": [
    "esci_label_map = {\"Irrelevant\": 0.0, \"Exact\": 1.0, \"Substitute\": 0.2, \"Complement\": 0.0}\n",
    "esci_train_df['label'] = esci_train_df.esci_label.map(esci_label_map)"
   ]
  },
  {
   "cell_type": "code",
   "execution_count": 12,
   "id": "ccd4e363-1f91-403a-82c0-3393e3ecc7b7",
   "metadata": {},
   "outputs": [],
   "source": [
    "def create_item_text(row):\n",
    "    title = row[\"product_title\"]\n",
    "    brand = row[\"product_brand\"]\n",
    "    color = row[\"product_color\"]\n",
    "    return f\"Title: {title}. Brand: {brand}. Color: {color}\""
   ]
  },
  {
   "cell_type": "code",
   "execution_count": 13,
   "id": "f1dc995a-0caa-4714-a2ae-079703732531",
   "metadata": {},
   "outputs": [
    {
     "data": {
      "text/plain": [
       "(1420372, 16)"
      ]
     },
     "execution_count": 13,
     "metadata": {},
     "output_type": "execute_result"
    }
   ],
   "source": [
    "esci_train_df['item_text'] = esci_train_df.apply(lambda row: create_item_text(row), axis=1)\n",
    "esci_train_df = esci_train_df.dropna(subset=[\"query\", \"item_text\", \"label\"])\n",
    "esci_train_df.shape"
   ]
  },
  {
   "cell_type": "code",
   "execution_count": 14,
   "id": "ff632e57-091d-4546-ab2a-f6b9270ab3ee",
   "metadata": {},
   "outputs": [],
   "source": [
    "for q, t, s in zip(esci_train_df[\"query\"].tolist(), esci_train_df[\"item_text\"].tolist(), esci_train_df[\"label\"].tolist()):\n",
    "    train_samples.append(InputExample(texts=[q, t], label=s))"
   ]
  },
  {
   "cell_type": "code",
   "execution_count": null,
   "id": "dd2f4b9b-203d-4d76-b46f-dcdad9402770",
   "metadata": {},
   "outputs": [],
   "source": []
  },
  {
   "cell_type": "code",
   "execution_count": 15,
   "id": "0febd29c-7b11-4cfe-9f03-5e8f8ee3765f",
   "metadata": {},
   "outputs": [
    {
     "data": {
      "text/plain": [
       "(434234, 16)"
      ]
     },
     "execution_count": 15,
     "metadata": {},
     "output_type": "execute_result"
    }
   ],
   "source": [
    "esci_test_df = esci[\"test\"].to_pandas()\n",
    "esci_test_df = esci_test_df[esci_test_df.product_locale == 'us'].copy().sample(frac=1.0, random_state=19)\n",
    "\n",
    "\n",
    "esci_test_df['label'] = esci_test_df.esci_label.map(esci_label_map)\n",
    "\n",
    "esci_test_df['item_text'] = esci_test_df.apply(lambda row: create_item_text(row), axis=1)\n",
    "esci_test_df = esci_test_df.dropna(subset=[\"query\", \"item_text\", \"label\"])\n",
    "esci_test_df.shape"
   ]
  },
  {
   "cell_type": "code",
   "execution_count": 16,
   "id": "888e8594-876e-452c-8dcf-935db2bff3f8",
   "metadata": {},
   "outputs": [
    {
     "data": {
      "text/plain": [
       "5000"
      ]
     },
     "execution_count": 16,
     "metadata": {},
     "output_type": "execute_result"
    }
   ],
   "source": [
    "val_size = 5_000\n",
    "val_queries_ids = esci_test_df[\"query_id\"].unique().tolist()[:val_size]\n",
    "val_queries_ids = set(val_queries_ids)\n",
    "len(val_queries_ids)\n"
   ]
  },
  {
   "cell_type": "code",
   "execution_count": 17,
   "id": "e7d78b54-80af-4dc6-a4bb-09cb753f5844",
   "metadata": {},
   "outputs": [],
   "source": [
    "test_size = 5_000\n",
    "test_query_ids = set()\n",
    "for qid in esci_test_df.query_id.unique():\n",
    "    if qid not in val_queries_ids:\n",
    "        test_query_ids.add(qid)\n",
    "    if len(test_query_ids) > test_size:\n",
    "        break\n",
    "        "
   ]
  },
  {
   "cell_type": "code",
   "execution_count": 18,
   "id": "3dd807f0-81ff-4063-afe5-0ea935f22a98",
   "metadata": {},
   "outputs": [],
   "source": [
    "val_ids_df = pd.DataFrame({\"query_id\": list(val_queries_ids)})\n",
    "test_ids_df = pd.DataFrame({\"query_id\": list(test_query_ids)})"
   ]
  },
  {
   "cell_type": "code",
   "execution_count": 19,
   "id": "1c3c3b68-030c-4f08-9fff-8e13c9c9d7c1",
   "metadata": {},
   "outputs": [],
   "source": [
    "val_df = esci_test_df[esci_test_df.query_id.isin(val_queries_ids)]\n",
    "test_df = esci_test_df[esci_test_df.query_id.isin(test_query_ids)]"
   ]
  },
  {
   "cell_type": "code",
   "execution_count": 20,
   "id": "38e79080-dd0a-4122-a3ce-2397b20e2313",
   "metadata": {},
   "outputs": [],
   "source": [
    "for q, t, s in zip(val_df[\"query\"].tolist(), val_df[\"item_text\"].tolist(), val_df[\"label\"].tolist()):\n",
    "    dev_samples.append(InputExample(texts=[q, t], label=s))"
   ]
  },
  {
   "cell_type": "code",
   "execution_count": 21,
   "id": "7673eead-9a9a-4216-b230-a68ffb8850ca",
   "metadata": {},
   "outputs": [],
   "source": [
    "for q, t, s in zip(test_df[\"query\"].tolist(), test_df[\"item_text\"].tolist(), test_df[\"label\"].tolist()):\n",
    "    test_samples.append(InputExample(texts=[q, t], label=s))"
   ]
  },
  {
   "cell_type": "code",
   "execution_count": 22,
   "id": "08d8b40b-3cb9-4ee5-aa7f-113ad6f70021",
   "metadata": {},
   "outputs": [
    {
     "data": {
      "text/plain": [
       "(1420372, 111223, 103012)"
      ]
     },
     "execution_count": 22,
     "metadata": {},
     "output_type": "execute_result"
    }
   ],
   "source": [
    "len(train_samples), len(dev_samples), len(test_samples)"
   ]
  },
  {
   "cell_type": "code",
   "execution_count": null,
   "id": "1131f913-2433-4855-b71e-e89697eb21e3",
   "metadata": {},
   "outputs": [],
   "source": [
    "\n"
   ]
  },
  {
   "cell_type": "code",
   "execution_count": 23,
   "id": "f89f7e65-e123-4de9-b665-3eaf1b77afc3",
   "metadata": {},
   "outputs": [],
   "source": [
    "#### Just some code to print debug information to stdout\n",
    "logging.basicConfig(\n",
    "    format=\"%(asctime)s - %(message)s\", datefmt=\"%Y-%m-%d %H:%M:%S\", level=logging.INFO, handlers=[LoggingHandler()]\n",
    ")\n",
    "logger = logging.getLogger(__name__)"
   ]
  },
  {
   "cell_type": "code",
   "execution_count": 24,
   "id": "e7049e37-77d8-4f1c-9841-c449466e7d5b",
   "metadata": {},
   "outputs": [],
   "source": [
    "# We wrap train_samples (which is a List[InputExample]) into a pytorch DataLoader\n",
    "train_dataloader = DataLoader(train_samples, shuffle=True, batch_size=train_batch_size)\n",
    "# We add an evaluator, which evaluates the performance during training\n",
    "evaluator = CECorrelationEvaluator.from_input_examples(dev_samples)\n"
   ]
  },
  {
   "cell_type": "code",
   "execution_count": 25,
   "id": "dcccb4ff-d7a4-4678-949a-19a6a7fb0177",
   "metadata": {},
   "outputs": [
    {
     "name": "stdout",
     "output_type": "stream",
     "text": [
      "2024-06-17 07:18:04 - Warmup-steps: 740\n"
     ]
    }
   ],
   "source": [
    "# Configure the training\n",
    "warmup_steps = math.ceil(len(train_dataloader) * num_epochs * 0.1)  # 10% of train data for warm-up\n",
    "logger.info(\"Warmup-steps: {}\".format(warmup_steps))"
   ]
  },
  {
   "cell_type": "code",
   "execution_count": null,
   "id": "b0484f61-a17d-43c0-9d70-77ed36d74d7c",
   "metadata": {},
   "outputs": [
    {
     "data": {
      "application/vnd.jupyter.widget-view+json": {
       "model_id": "7451db09890644fab67922adb32fbe47",
       "version_major": 2,
       "version_minor": 0
      },
      "text/plain": [
       "Epoch:   0%|          | 0/2 [00:00<?, ?it/s]"
      ]
     },
     "metadata": {},
     "output_type": "display_data"
    },
    {
     "data": {
      "application/vnd.jupyter.widget-view+json": {
       "model_id": "b192f427f15542dcbfb2867e34565d9b",
       "version_major": 2,
       "version_minor": 0
      },
      "text/plain": [
       "Iteration:   0%|          | 0/3699 [00:00<?, ?it/s]"
      ]
     },
     "metadata": {},
     "output_type": "display_data"
    },
    {
     "name": "stdout",
     "output_type": "stream",
     "text": [
      "2024-06-17 07:50:12 - CECorrelationEvaluator: Evaluating the model on  dataset after epoch 0:\n",
      "2024-06-17 07:50:53 - Correlation:\tPearson: 0.5577\tSpearman: 0.5772\n",
      "2024-06-17 07:50:53 - Save model to output/training_esci-crossencoder-exact_vs_nonexact2024-06-17 07:16:25.325538\n"
     ]
    },
    {
     "data": {
      "application/vnd.jupyter.widget-view+json": {
       "model_id": "9bad29ad799f48e6a2ff7eba8729091d",
       "version_major": 2,
       "version_minor": 0
      },
      "text/plain": [
       "Iteration:   0%|          | 0/3699 [00:00<?, ?it/s]"
      ]
     },
     "metadata": {},
     "output_type": "display_data"
    }
   ],
   "source": [
    "# Train the model\n",
    "model.fit(\n",
    "    train_dataloader=train_dataloader,\n",
    "    evaluator=evaluator,\n",
    "    epochs=num_epochs,\n",
    "    warmup_steps=warmup_steps,\n",
    "    output_path=model_save_path,\n",
    ")\n"
   ]
  },
  {
   "cell_type": "code",
   "execution_count": 27,
   "id": "6203e9f0-de16-473f-ad6b-a45e7cf1e88b",
   "metadata": {},
   "outputs": [
    {
     "ename": "NameError",
     "evalue": "name 'x' is not defined",
     "output_type": "error",
     "traceback": [
      "\u001b[0;31m---------------------------------------------------------------------------\u001b[0m",
      "\u001b[0;31mNameError\u001b[0m                                 Traceback (most recent call last)",
      "Cell \u001b[0;32mIn[27], line 1\u001b[0m\n\u001b[0;32m----> 1\u001b[0m \u001b[43mx\u001b[49m\n",
      "\u001b[0;31mNameError\u001b[0m: name 'x' is not defined"
     ]
    }
   ],
   "source": []
  },
  {
   "cell_type": "code",
   "execution_count": 28,
   "id": "340b7062-2894-4fb7-82fd-a69197de2597",
   "metadata": {},
   "outputs": [
    {
     "name": "stdout",
     "output_type": "stream",
     "text": [
      "2024-06-17 08:43:12 - Use pytorch device: cuda\n",
      "2024-06-17 08:43:12 - CECorrelationEvaluator: Evaluating the model on esci-test dataset:\n",
      "2024-06-17 08:43:47 - Correlation:\tPearson: 0.5705\tSpearman: 0.5843\n"
     ]
    },
    {
     "data": {
      "text/plain": [
       "0.5843368280819196"
      ]
     },
     "execution_count": 28,
     "metadata": {},
     "output_type": "execute_result"
    }
   ],
   "source": [
    "##### Load model and eval on test set\n",
    "model = CrossEncoder(model_save_path)\n",
    "\n",
    "evaluator = CECorrelationEvaluator.from_input_examples(test_samples, name=\"esci-test\")\n",
    "evaluator(model)"
   ]
  },
  {
   "cell_type": "code",
   "execution_count": null,
   "id": "44b8cb72-26b3-48f2-b485-f4b53f14fd3c",
   "metadata": {},
   "outputs": [],
   "source": []
  }
 ],
 "metadata": {
  "kernelspec": {
   "display_name": "Python 3",
   "language": "python",
   "name": "python3"
  },
  "language_info": {
   "codemirror_mode": {
    "name": "ipython",
    "version": 3
   },
   "file_extension": ".py",
   "mimetype": "text/x-python",
   "name": "python",
   "nbconvert_exporter": "python",
   "pygments_lexer": "ipython3",
   "version": "3.10.10"
  }
 },
 "nbformat": 4,
 "nbformat_minor": 5
}
